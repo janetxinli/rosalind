{
 "cells": [
  {
   "cell_type": "code",
   "execution_count": 75,
   "metadata": {},
   "outputs": [],
   "source": [
    "from read_fasta import read_fasta\n",
    "from random import choice\n",
    "import pandas as pd"
   ]
  },
  {
   "cell_type": "code",
   "execution_count": 76,
   "metadata": {},
   "outputs": [],
   "source": [
    "def generate_matrix(list_of_sequences):\n",
    "    \"\"\"\n",
    "    Given a list of sequences of equal length, generate a profile matrix \n",
    "    containing the number of occurrences of each base A, C, T and G in each position.\n",
    "    Return dataframe holding profile matrix.\n",
    "    \"\"\"\n",
    "    sequence_length = len(list_of_sequences[0])\n",
    "    \n",
    "    # Create a dataframe to hold matrix\n",
    "    profile_matrix = pd.DataFrame({\"A\": [0] * sequence_length,\n",
    "                              \"C\": [0] * sequence_length,\n",
    "                              \"G\": [0] * sequence_length,\n",
    "                              \"T\": [0] * sequence_length})\n",
    "    \n",
    "    # Count number of occurrences of each base at each position\n",
    "    for sequence in list_of_sequences:\n",
    "        for i in range(len(sequence)):\n",
    "            if sequence[i] == \"A\":\n",
    "                profile_matrix[\"A\"][i] += 1\n",
    "            elif sequence[i] == \"C\":\n",
    "                profile_matrix[\"C\"][i] += 1\n",
    "            elif sequence[i] == \"G\":\n",
    "                profile_matrix[\"G\"][i] += 1\n",
    "            elif sequence[i] == \"T\":\n",
    "                profile_matrix[\"T\"][i] += 1\n",
    "    \n",
    "    return profile_matrix"
   ]
  },
  {
   "cell_type": "code",
   "execution_count": 77,
   "metadata": {},
   "outputs": [],
   "source": [
    "def get_consensus_base(position_counts):\n",
    "    \"\"\"\n",
    "    Given profile matrix denoting the counts of bases at each position\n",
    "    of a sequence, return the most common base. If more than one base is most\n",
    "    common, randomly choose between common bases.\n",
    "    \"\"\"\n",
    "    max_bases = []\n",
    "    max_occurence = position_counts.max()\n",
    "    for base in position_counts.iteritems():\n",
    "        if base[1] == max_occurence:\n",
    "            max_bases.append(base[0])\n",
    "    \n",
    "    if len(max_bases) == 1:\n",
    "        return max_bases[0]\n",
    "    else:\n",
    "        return choice(max_bases)\n",
    "\n",
    "# get_consensus_base(profile_matrix.iloc[0])\n",
    "\n",
    "def get_consensus_sequence(position_counts):\n",
    "    \"\"\"\n",
    "    Given a profile matrix, return the consensus sequence.\n",
    "    \"\"\"\n",
    "    consensus_sequence = \"\"\n",
    "    for i in range(len(position_counts)):\n",
    "        pos = position_counts.iloc[i]\n",
    "        consensus_sequence += get_consensus_base(pos)\n",
    "    \n",
    "    return consensus_sequence"
   ]
  },
  {
   "cell_type": "code",
   "execution_count": 78,
   "metadata": {},
   "outputs": [],
   "source": [
    "def print_matrix(matrix):\n",
    "    \"\"\"\n",
    "    Print matrix out.\n",
    "    \"\"\"\n",
    "    bases = [\"A\", \"C\", \"G\", \"T\"]\n",
    "\n",
    "    for base in matrix.columns:\n",
    "        counts = []\n",
    "        for pos in range(len(matrix)):\n",
    "            counts.append(str(matrix[base][pos]))\n",
    "        print(\"{b}: {c}\".format(b=base, c=' '.join(counts)))"
   ]
  },
  {
   "cell_type": "code",
   "execution_count": 94,
   "metadata": {},
   "outputs": [
    {
     "name": "stdout",
     "output_type": "stream",
     "text": [
      "GTTTACAGGCTTCCGTTACATGCCCGTACGTAATGTAGAATGGCCAAGGTAGATCACGGGGGTTGATTTATCCGGATTCCTTTCAAAAATATCCCGGGCAAGGGATCCTTGTGACATCTTCTCGTAGCGGAGGCTCTTTCTATTGTCGTAGTGGGTTCCTCTATTACTCGCTCCTATCGCAGGTTGAACAAGATGTGTCAAGCGAAGGTGGTACCCTTTCTTCCCGAGCCTTAACCAGATTAGCGAACCTATGCTGATGAGAACTTTTGCAGTCGCGGCATTGCACCGTGTCCCCCTGTCGCGCTTGGTCGGTCATAACTCATGAATATTAGGTTAAGTAACTTACAGTTCGCCAGTTCCGGCCCCGACAATCGATGTTCTGTGACCAACGCTAATTGTTTAGCGGCCAACAGTTATCGTATACGGGTAGCTAGTCGTCTAATTTCTACCTCCGGTTCATTCTTCTCCCCTGTTGTCATACGTTCGACTAGTTCCCGTACTTTTTCCGTGAACCGTGTCCTCCCGTAAGTAGTACCAGGAGAACGTGAGCCTTGCGTGTCAGCCCGCATGATAATAATAGTACTTTACGACCTAAGACCCCCTATATAGATTCCCCATAGTTACTAGTTGTTGTAACCTGCCCCGCGGATTGTATTAGCCTATTTGTCGCAAACACATTTGAAGTAAACCCCCTTCATATTCGACTGCGATTTAAAAGCGAATGCACTCTAGGGTATAGACCCCCCGCCCTTCGCTGCAAGAGATGACTCTGATTTATGTAGGCGCCTATTCTCCTCGATGGCAGCTGTAGCGCCGAAGCCAAAAATGGACCTAGAGGGTCGGCAAAAAAGCACCGACCTTGGAAAACTTTGTTCTCTGGGTAGCGAAAAGGGAACCCTAGACTAGCCCTCGTCCCAGTGACGACGACCGTGCGTTGGCTGAGTGCCGACCA\n",
      "A: 2 3 3 2 4 3 5 2 1 1 3 2 2 1 2 1 2 4 1 3 3 3 2 2 2 2 1 4 3 3 4 4 5 2 2 3 3 1 4 4 2 1 2 2 2 4 4 2 3 2 4 1 3 2 2 6 2 2 2 0 2 3 1 3 1 4 0 0 1 5 2 2 2 2 1 5 2 3 1 3 2 3 1 1 4 4 6 4 4 3 6 3 2 1 2 2 2 2 0 4 4 3 0 1 5 1 3 3 1 1 3 2 1 4 3 5 2 2 1 1 3 3 1 3 3 4 0 2 3 2 5 3 2 2 2 3 1 3 1 2 1 5 0 1 1 0 2 3 1 4 2 3 3 1 3 2 1 2 1 3 2 1 4 3 2 4 2 3 2 1 1 3 2 2 1 5 1 1 0 0 5 3 3 0 0 1 4 4 1 4 4 0 4 0 2 3 1 3 1 4 5 1 2 0 5 4 0 1 2 2 3 1 3 2 3 3 2 2 2 2 1 1 3 2 3 4 4 2 2 3 3 1 4 4 2 1 3 2 3 2 3 3 3 2 1 4 4 1 1 2 5 0 2 2 3 2 4 2 1 5 2 4 5 2 2 3 4 1 2 2 4 3 2 2 4 3 2 1 1 4 0 2 1 2 3 2 1 2 1 2 1 1 3 1 0 1 1 3 1 1 3 3 2 2 2 1 2 3 0 3 3 2 3 2 4 4 5 3 2 3 3 3 1 2 4 5 3 3 3 3 4 2 2 3 1 5 5 3 3 6 5 2 3 3 5 0 4 3 2 1 2 1 2 2 4 2 3 1 3 2 0 4 1 3 1 2 3 4 0 4 4 1 0 3 4 3 1 0 3 0 2 3 0 3 4 3 1 4 6 2 1 2 3 6 4 3 2 2 2 1 1 3 0 0 2 2 3 3 4 4 1 5 2 2 2 4 2 1 3 2 3 3 4 1 4 1 3 3 3 2 3 1 3 1 2 2 1 1 2 3 4 4 2 2 1 3 2 4 3 1 1 2 1 0 2 2 2 2 4 3 1 1 3 2 1 1 4 2 0 3 1 3 1 3 1 1 2 4 4 5 2 1 0 3 3 2 3 2 0 3 2 1 1 2 1 2 2 1 4 2 0 1 3 2 2 2 1 3 0 1 4 4 0 4 2 2 0 0 3 1 3 0 3 2 2 0 5 4 2 2 4 1 3 4 2 2 4 0 3 6 4 3 5 2 3 1 1 6 2 3 2 0 1 3 2 2 0 1 1 2 6 3 2 1 2 2 1 4 3 2 4 2 3 5 2 4 4 2 4 1 1 4 2 3 2 2 5 1 0 4 3 2 2 4 4 3 3 0 2 2 4 1 1 5 2 4 1 3 1 4 2 0 2 0 2 3 4 1 4 1 2 2 4 0 1 4 2 2 2 2 4 2 1 2 3 4 1 2 2 2 2 2 3 1 3 2 2 0 4 3 2 3 1 4 3 2 3 1 3 3 2 4 3 3 2 0 1 3 1 2 5 4 4 1 4 3 3 3 1 1 1 5 5 2 2 4 3 3 3 2 2 4 0 2 1 2 3 1 4 2 1 0 2 5 3 2 3 1 2 5 2 3 2 4 4 3 5 1 3 2 5 4 3 1 1 5 2 2 2 1 4 2 0 0 3 6 3 7 2 3 3 2 2 1 2 2 3 1 1 1 3 1 1 3 0 2 0 2 4 5 1 6 2 5 3 3 4 1 1 2 2 3 3 2 2 2 5 2 3 2 5 2 2 2 2 1 1 2 3 2 2 1 1 2 3 3 1 3 3 2 3 1 3 6 2 2 3 2 2 4 2 3 3 1 2 1 4 3 3 1 1 4 5 3 3 3 0 0 1 5 2 2 2 4 3 4 1 1 2 2 2 2 2 2 4 5 4 5 4 4 2 3 4 2 2 2 6 3 2 3 1 1 1 7 7 4 4 0 3 1 1 2 1 3 2 4 4 1 1 4 2 2 4 3 3 2 3 3 5 4 1 2 2 5 4 2 2 1 2 4 1 3 3 3 5 2 0 2 2 1 1 3 3 3 2 1 4 3 2 2 4 2 0 4 2 1 4 1 2 3 2 2 3 2 1 1 3 2 1 3 0 4 1 3 3 2 3 2 5 2 3 4\n",
      "C: 4 2 2 3 2 4 1 2 2 5 1 0 3 4 2 3 3 1 4 3 3 2 3 4 4 2 2 3 4 2 1 3 2 4 2 2 1 1 2 2 2 2 3 5 3 3 1 2 1 1 4 3 2 1 5 0 4 2 1 4 3 1 3 2 3 2 0 2 2 1 3 4 4 3 2 2 1 0 4 4 2 0 4 4 3 2 1 3 3 2 3 0 4 6 4 3 2 1 4 1 2 1 4 2 2 3 4 5 3 2 2 2 1 3 5 0 1 4 3 4 4 2 3 2 1 2 2 4 1 2 2 2 1 4 2 4 2 2 2 3 4 4 2 3 2 1 4 1 3 2 3 1 3 2 3 2 2 4 4 2 4 2 3 2 2 2 4 1 4 2 5 1 5 5 3 1 2 4 3 6 3 3 2 2 1 3 2 1 4 1 3 3 3 2 3 1 2 2 4 0 2 3 4 3 2 3 2 3 3 1 1 2 2 4 3 4 2 3 4 4 3 4 4 4 3 0 1 1 5 4 2 3 2 2 4 5 3 2 3 2 0 2 1 4 1 4 2 7 4 2 1 3 2 5 2 2 3 1 3 2 3 4 1 4 2 0 1 2 3 4 2 1 1 4 0 4 0 2 5 2 3 3 2 4 3 5 3 2 1 3 2 4 4 5 7 5 2 2 2 4 2 4 2 4 2 1 2 1 2 5 2 2 2 3 3 2 1 3 5 2 4 2 2 2 3 1 2 2 1 2 2 2 3 2 2 0 2 2 1 1 3 3 0 3 1 4 2 2 0 2 4 2 4 3 2 1 2 2 4 4 2 1 5 3 4 4 1 1 5 3 2 1 5 0 2 1 3 3 2 5 1 2 4 1 3 3 4 2 2 5 2 4 1 0 1 0 3 2 2 1 3 3 1 5 2 2 4 4 2 3 5 2 0 1 1 2 3 5 1 2 2 1 1 5 1 3 1 1 2 3 4 2 2 2 2 5 1 0 7 2 3 2 1 3 3 5 3 3 5 4 1 3 5 1 2 2 3 3 2 1 1 5 3 2 6 4 4 6 4 4 3 1 4 1 3 2 4 3 0 2 3 3 3 2 4 2 3 4 3 3 4 3 0 3 5 4 1 0 2 3 2 2 1 1 1 3 5 3 3 2 3 1 4 4 1 2 3 3 3 4 1 5 3 4 3 3 1 2 1 2 2 3 2 3 5 4 3 2 2 1 1 1 0 4 2 3 2 2 2 3 3 4 0 2 4 1 0 3 3 6 2 3 4 7 4 3 5 3 2 3 3 2 3 0 3 2 0 2 3 2 2 2 5 2 1 3 1 4 2 2 4 4 3 2 1 2 3 5 3 4 4 4 3 1 3 2 3 2 2 2 2 2 6 4 4 4 1 2 1 3 2 3 1 4 1 2 3 1 1 2 1 1 2 2 2 1 5 6 1 2 4 4 4 4 2 5 2 2 2 1 3 1 2 1 1 2 3 2 5 3 1 1 1 1 2 3 2 4 3 4 1 3 3 6 1 4 2 2 3 0 3 0 1 2 3 3 3 2 4 4 4 4 5 2 0 4 3 2 2 2 3 4 3 1 4 2 1 6 2 4 3 1 3 3 2 1 3 3 3 2 1 1 2 3 4 3 3 0 4 2 3 3 3 3 1 1 1 0 3 2 3 4 4 4 5 4 1 4 4 4 1 2 8 3 5 2 3 5 3 0 3 2 1 1 3 2 2 3 1 3 2 2 2 1 3 2 0 1 1 3 2 1 3 5 2 4 5 2 2 1 2 3 3 4 4 2 6 1 2 2 0 3 3 1 3 4 1 0 2 2 2 4 2 4 4 1 2 3 1 4 4 1 2 3 2 3 4 3 3 1 5 4 3 3 0 1 1 1 3 4 4 3 3 4 1 1 1 2 1 0 1 3 1 3 4 2 1 4 3 0 2 2 3 1 1 3 3 5 2 2 4 2 0 1 5 1 4 3 2 2 3 2 0 2 4 3 3 3 1 0 1 3 2 1 2 5 3 4 4 3 2 3 4 1 1 2 5 3 4 2 5 1 1 3 4 4 3 1 1 0 3 4 1 2 3 2 3 4 3 2 3 3 5 1 3 1 1 4 4 2 4 2 2 2 1 4 3 3 1 5 3 2\n",
      "G: 4 1 1 2 1 2 2 4 4 1 1 2 2 2 4 2 2 3 2 1 0 3 3 3 3 6 1 1 0 3 1 3 3 0 6 2 3 5 3 2 2 6 5 2 3 2 4 3 4 3 0 4 2 3 0 2 1 3 5 5 3 4 3 2 5 1 4 3 3 1 1 2 1 5 4 1 2 3 2 2 3 2 0 2 1 2 2 1 3 2 1 3 1 1 2 3 4 4 2 2 3 4 5 4 1 2 3 0 2 3 3 1 5 1 1 2 2 1 1 1 2 1 3 4 2 4 5 2 4 3 2 4 4 3 1 3 2 1 2 2 1 1 3 1 4 3 3 3 3 3 3 2 3 4 4 3 3 2 3 2 1 3 1 1 2 3 2 1 1 5 3 2 2 0 2 1 2 2 5 0 2 3 4 4 4 4 2 2 4 2 1 4 2 3 4 2 4 2 4 3 1 4 2 4 2 0 5 3 2 5 6 2 2 3 1 2 3 2 0 2 2 1 3 2 2 5 4 4 2 1 2 2 3 2 3 2 2 4 3 2 1 3 5 3 4 1 0 1 2 3 2 3 4 1 0 4 1 2 4 2 3 1 2 1 3 3 1 3 3 2 3 3 2 1 4 2 6 4 4 2 3 0 4 1 1 1 3 5 4 4 3 3 1 1 1 2 3 3 2 3 3 1 4 3 2 2 4 5 3 1 3 4 1 3 3 0 1 2 1 2 3 2 2 3 1 3 2 3 2 2 2 3 3 1 3 2 1 3 2 3 1 2 2 1 3 3 2 3 3 3 0 5 1 3 1 4 1 3 0 2 5 4 2 3 4 1 4 3 1 2 3 3 3 6 1 2 3 3 2 3 1 4 1 4 3 3 1 2 1 0 5 2 2 0 3 2 2 4 2 4 0 2 6 2 3 4 0 3 2 0 3 2 6 3 1 3 1 4 3 1 3 1 3 4 4 4 3 2 2 5 1 3 3 5 3 1 5 3 0 1 2 4 3 0 0 1 2 2 0 2 3 3 2 6 5 3 0 2 3 2 3 2 0 2 1 1 0 2 3 1 1 5 1 1 3 1 1 1 2 1 2 4 2 2 3 4 2 2 2 2 4 2 1 3 4 2 5 4 1 3 3 3 3 3 0 2 0 4 2 4 1 2 3 0 5 3 4 3 2 2 3 2 2 1 4 3 3 2 4 3 2 6 2 1 2 1 3 4 4 2 5 3 4 2 3 2 4 1 3 2 2 2 0 3 3 4 4 5 1 1 1 4 2 0 1 3 2 3 1 3 1 2 2 4 2 2 3 0 2 5 3 2 2 2 3 1 2 2 6 2 2 3 2 2 3 3 2 3 3 3 2 2 1 0 1 2 2 3 4 2 3 3 0 3 2 1 1 3 3 6 0 2 3 3 4 3 3 3 1 3 1 3 6 3 3 3 1 1 3 3 2 2 3 3 4 1 4 5 2 1 2 5 3 3 2 2 3 4 1 1 3 1 2 1 2 5 2 0 4 3 4 1 3 3 4 2 3 2 2 3 3 1 3 5 1 2 3 3 3 2 3 1 3 2 3 0 2 3 1 3 2 3 4 2 1 2 4 2 3 0 2 1 1 3 2 3 1 4 1 4 2 4 1 5 3 1 3 3 3 2 1 3 4 4 3 0 2 1 3 2 2 1 1 2 1 3 5 2 3 3 1 3 0 3 2 2 5 2 1 2 5 1 6 3 0 4 1 3 2 2 1 4 2 3 1 3 5 2 3 2 1 4 3 0 3 3 3 2 2 3 2 3 3 2 2 0 1 4 2 3 4 4 3 3 4 3 1 6 0 3 3 1 5 2 3 6 1 3 4 2 2 3 1 3 2 2 0 4 4 3 0 1 0 2 4 2 5 5 3 0 1 4 4 2 2 4 2 3 3 4 5 3 1 3 2 4 1 0 2 3 2 4 4 1 0 3 1 2 1 1 0 4 2 3 2 1 1 3 4 4 3 2 3 4 3 3 2 1 3 3 5 4 4 1 3 1 2 4 0 1 6 3 2 3 0 5 5 3 3 1 1 4 3 2 3 1 2 4 2 4 1 2 5 2 3 5 1 2 2 5 1 3 2 6 2 3 4 4 1 2 4 2 4 1 5 1 2 5 3 1 2 2\n",
      "T: 0 4 4 3 3 1 2 2 3 3 5 6 3 3 2 4 3 2 3 3 4 2 2 1 1 0 6 2 3 2 4 0 0 4 0 3 3 3 1 2 4 1 0 1 2 1 1 3 2 4 2 2 3 4 3 2 3 3 2 1 2 2 3 3 1 3 6 5 4 3 4 2 3 0 3 2 5 4 3 1 3 5 5 3 2 2 1 2 0 3 0 4 3 2 2 2 2 3 4 3 1 2 1 3 2 4 0 2 4 4 2 5 3 2 1 3 5 3 5 4 1 4 3 1 4 0 3 2 2 3 1 1 3 1 5 0 5 4 5 3 4 0 5 5 3 6 1 3 3 1 2 4 1 3 0 3 4 2 2 3 3 4 2 4 4 1 2 5 3 2 1 4 1 3 4 3 5 3 2 4 0 1 1 4 5 2 2 3 1 3 2 3 1 5 1 4 3 3 1 3 2 2 2 3 1 3 3 3 3 2 0 5 3 1 3 1 3 3 4 2 4 4 0 2 2 1 1 3 1 2 3 4 1 2 1 2 2 2 1 4 6 2 1 1 4 1 4 1 3 3 2 4 2 2 5 2 2 5 2 1 2 1 2 3 3 4 4 4 2 2 1 3 5 3 2 1 2 3 0 2 4 5 3 3 3 2 3 1 4 1 4 2 2 3 2 2 4 2 5 2 2 2 2 1 4 6 2 1 5 1 2 2 4 2 0 4 3 2 2 3 0 3 5 3 2 1 3 2 4 3 2 3 2 4 4 3 2 2 4 0 1 3 5 3 1 3 2 2 5 4 4 2 3 2 3 3 4 4 3 2 3 1 2 1 1 3 2 2 4 1 1 5 2 1 3 4 3 4 3 2 6 1 5 2 0 1 4 2 1 3 2 2 4 4 2 5 3 2 4 4 6 2 3 3 3 2 3 0 2 3 1 1 2 4 6 1 4 0 3 5 2 5 2 0 1 2 3 4 3 0 2 4 2 2 3 2 3 6 1 4 1 0 4 5 6 1 3 1 2 3 5 2 2 3 1 3 5 3 1 4 5 2 4 4 2 4 2 0 3 2 5 1 4 5 3 6 3 2 4 2 3 2 5 3 0 2 2 2 5 2 0 4 8 2 0 2 2 5 3 2 5 4 3 4 7 3 4 0 5 3 2 3 3 2 2 3 3 4 2 3 3 3 2 3 1 4 1 2 3 3 2 0 3 2 1 3 0 4 1 1 0 3 1 2 2 4 3 1 3 2 3 4 9 2 1 3 6 1 5 1 1 0 2 2 3 2 2 0 4 2 2 4 2 1 3 2 3 6 1 2 4 2 1 3 4 4 2 3 2 2 1 1 3 2 2 2 2 2 2 1 0 3 5 4 4 2 4 2 3 2 3 5 2 3 2 2 4 4 2 0 6 3 2 3 4 1 2 4 6 3 4 4 1 3 2 2 3 1 4 3 2 2 0 2 1 2 2 3 2 5 3 1 4 2 4 4 1 3 1 3 4 4 4 5 4 2 5 3 2 1 0 2 0 0 1 1 2 3 4 6 3 4 1 1 4 1 1 2 0 2 1 1 2 4 6 4 2 4 3 3 4 3 1 2 2 4 2 1 3 1 3 5 4 0 2 3 1 2 3 2 2 1 4 1 2 1 2 5 1 5 2 2 3 3 3 3 4 2 2 3 2 3 3 3 2 1 1 3 2 2 5 4 1 1 3 4 2 1 2 3 1 1 1 1 4 1 3 3 6 3 5 1 3 4 4 3 0 5 3 3 2 3 2 3 3 2 1 4 3 4 4 3 3 2 1 5 2 2 3 3 3 2 1 0 1 1 5 2 6 1 3 2 0 3 1 2 3 1 2 3 3 2 2 1 3 2 6 3 2 1 3 3 5 1 3 3 3 3 2 4 3 1 1 2 3 0 3 0 2 2 2 1 4 2 2 2 2 3 3 4 5 3 2 1 2 0 2 3 4 6 5 2 7 3 1 4 1 3 3 0 2 4 3 1 0 2 2 3 1 3 3 1 2 3 1 2 3 1 4 2 1 1 1 3 4 1 0 2 1 6 3 2 3 2 1 4 1 2 5 4 2 2 4 2 2 2 2 3 3 0 4 2 0 1 4 5 2 0 4 3 2 2 3 4 1 3 2 0 1 2 2 2\n"
     ]
    }
   ],
   "source": [
    "def main():\n",
    "    with open(\"rosalind_cons.txt\", \"r\") as fh:\n",
    "        sequences = []\n",
    "        for _, seq in read_fasta(fh):\n",
    "            sequences.append(seq)\n",
    "    profile_matrix = generate_matrix(sequences)\n",
    "    print(get_consensus_sequence(profile_matrix))\n",
    "    print_matrix(profile_matrix)\n",
    "\n",
    "main()    \n",
    "    "
   ]
  }
 ],
 "metadata": {
  "kernelspec": {
   "display_name": "Python 3.7.4 64-bit ('anaconda3': virtualenv)",
   "language": "python",
   "name": "python37464bitanaconda3virtualenvddbd6a2f845848d9bd42e162205cbba4"
  },
  "language_info": {
   "codemirror_mode": {
    "name": "ipython",
    "version": 3
   },
   "file_extension": ".py",
   "mimetype": "text/x-python",
   "name": "python",
   "nbconvert_exporter": "python",
   "pygments_lexer": "ipython3",
   "version": "3.7.4"
  }
 },
 "nbformat": 4,
 "nbformat_minor": 4
}
